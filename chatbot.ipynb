{
  "cells": [
    {
      "cell_type": "code",
      "execution_count": null,
      "metadata": {
        "id": "2VyHwpJDidww"
      },
      "outputs": [],
      "source": [
        "#description:this is a smart chat bot program\n",
        "\n"
      ]
    },
    {
      "cell_type": "code",
      "execution_count": 1,
      "metadata": {
        "colab": {
          "base_uri": "https://localhost:8080/"
        },
        "id": "gnvguZmhi59F",
        "outputId": "93a371ef-a306-4e33-c1f6-74e42753968c"
      },
      "outputs": [
        {
          "output_type": "stream",
          "name": "stdout",
          "text": [
            "Requirement already satisfied: nltk in /usr/local/lib/python3.10/dist-packages (3.8.1)\n",
            "Requirement already satisfied: click in /usr/local/lib/python3.10/dist-packages (from nltk) (8.1.7)\n",
            "Requirement already satisfied: joblib in /usr/local/lib/python3.10/dist-packages (from nltk) (1.4.2)\n",
            "Requirement already satisfied: regex>=2021.8.3 in /usr/local/lib/python3.10/dist-packages (from nltk) (2023.12.25)\n",
            "Requirement already satisfied: tqdm in /usr/local/lib/python3.10/dist-packages (from nltk) (4.66.4)\n"
          ]
        }
      ],
      "source": [
        "pip install nltk\n"
      ]
    },
    {
      "cell_type": "code",
      "execution_count": null,
      "metadata": {
        "colab": {
          "base_uri": "https://localhost:8080/"
        },
        "id": "rKWsMeLyjGrM",
        "outputId": "d4b58603-22a7-43a0-deee-47b5489a8f62"
      },
      "outputs": [
        {
          "name": "stdout",
          "output_type": "stream",
          "text": [
            "Collecting newspaper3k\n",
            "  Downloading newspaper3k-0.2.8-py3-none-any.whl (211 kB)\n",
            "\u001b[?25l     \u001b[90m━━━━━━━━━━━━━━━━━━━━━━━━━━━━━━━━━━━━━━━━\u001b[0m \u001b[32m0.0/211.1 kB\u001b[0m \u001b[31m?\u001b[0m eta \u001b[36m-:--:--\u001b[0m\r\u001b[2K     \u001b[91m━━━━━━━━━━━━━━━━━\u001b[0m\u001b[90m╺\u001b[0m\u001b[90m━━━━━━━━━━━━━━━━━━━━━━\u001b[0m \u001b[32m92.2/211.1 kB\u001b[0m \u001b[31m2.5 MB/s\u001b[0m eta \u001b[36m0:00:01\u001b[0m\r\u001b[2K     \u001b[90m━━━━━━━━━━━━━━━━━━━━━━━━━━━━━━━━━━━━━━━━\u001b[0m \u001b[32m211.1/211.1 kB\u001b[0m \u001b[31m3.9 MB/s\u001b[0m eta \u001b[36m0:00:00\u001b[0m\n",
            "\u001b[?25hRequirement already satisfied: beautifulsoup4>=4.4.1 in /usr/local/lib/python3.10/dist-packages (from newspaper3k) (4.12.3)\n",
            "Requirement already satisfied: Pillow>=3.3.0 in /usr/local/lib/python3.10/dist-packages (from newspaper3k) (9.4.0)\n",
            "Requirement already satisfied: PyYAML>=3.11 in /usr/local/lib/python3.10/dist-packages (from newspaper3k) (6.0.1)\n",
            "Collecting cssselect>=0.9.2 (from newspaper3k)\n",
            "  Downloading cssselect-1.2.0-py2.py3-none-any.whl (18 kB)\n",
            "Requirement already satisfied: lxml>=3.6.0 in /usr/local/lib/python3.10/dist-packages (from newspaper3k) (4.9.4)\n",
            "Requirement already satisfied: nltk>=3.2.1 in /usr/local/lib/python3.10/dist-packages (from newspaper3k) (3.8.1)\n",
            "Requirement already satisfied: requests>=2.10.0 in /usr/local/lib/python3.10/dist-packages (from newspaper3k) (2.31.0)\n",
            "Collecting feedparser>=5.2.1 (from newspaper3k)\n",
            "  Downloading feedparser-6.0.11-py3-none-any.whl (81 kB)\n",
            "\u001b[2K     \u001b[90m━━━━━━━━━━━━━━━━━━━━━━━━━━━━━━━━━━━━━━━━\u001b[0m \u001b[32m81.3/81.3 kB\u001b[0m \u001b[31m9.5 MB/s\u001b[0m eta \u001b[36m0:00:00\u001b[0m\n",
            "\u001b[?25hCollecting tldextract>=2.0.1 (from newspaper3k)\n",
            "  Downloading tldextract-5.1.2-py3-none-any.whl (97 kB)\n",
            "\u001b[2K     \u001b[90m━━━━━━━━━━━━━━━━━━━━━━━━━━━━━━━━━━━━━━━━\u001b[0m \u001b[32m97.6/97.6 kB\u001b[0m \u001b[31m7.7 MB/s\u001b[0m eta \u001b[36m0:00:00\u001b[0m\n",
            "\u001b[?25hCollecting feedfinder2>=0.0.4 (from newspaper3k)\n",
            "  Downloading feedfinder2-0.0.4.tar.gz (3.3 kB)\n",
            "  Preparing metadata (setup.py) ... \u001b[?25l\u001b[?25hdone\n",
            "Collecting jieba3k>=0.35.1 (from newspaper3k)\n",
            "  Downloading jieba3k-0.35.1.zip (7.4 MB)\n",
            "\u001b[2K     \u001b[90m━━━━━━━━━━━━━━━━━━━━━━━━━━━━━━━━━━━━━━━━\u001b[0m \u001b[32m7.4/7.4 MB\u001b[0m \u001b[31m54.8 MB/s\u001b[0m eta \u001b[36m0:00:00\u001b[0m\n",
            "\u001b[?25h  Preparing metadata (setup.py) ... \u001b[?25l\u001b[?25hdone\n",
            "Requirement already satisfied: python-dateutil>=2.5.3 in /usr/local/lib/python3.10/dist-packages (from newspaper3k) (2.8.2)\n",
            "Collecting tinysegmenter==0.3 (from newspaper3k)\n",
            "  Downloading tinysegmenter-0.3.tar.gz (16 kB)\n",
            "  Preparing metadata (setup.py) ... \u001b[?25l\u001b[?25hdone\n",
            "Requirement already satisfied: soupsieve>1.2 in /usr/local/lib/python3.10/dist-packages (from beautifulsoup4>=4.4.1->newspaper3k) (2.5)\n",
            "Requirement already satisfied: six in /usr/local/lib/python3.10/dist-packages (from feedfinder2>=0.0.4->newspaper3k) (1.16.0)\n",
            "Collecting sgmllib3k (from feedparser>=5.2.1->newspaper3k)\n",
            "  Downloading sgmllib3k-1.0.0.tar.gz (5.8 kB)\n",
            "  Preparing metadata (setup.py) ... \u001b[?25l\u001b[?25hdone\n",
            "Requirement already satisfied: click in /usr/local/lib/python3.10/dist-packages (from nltk>=3.2.1->newspaper3k) (8.1.7)\n",
            "Requirement already satisfied: joblib in /usr/local/lib/python3.10/dist-packages (from nltk>=3.2.1->newspaper3k) (1.4.2)\n",
            "Requirement already satisfied: regex>=2021.8.3 in /usr/local/lib/python3.10/dist-packages (from nltk>=3.2.1->newspaper3k) (2023.12.25)\n",
            "Requirement already satisfied: tqdm in /usr/local/lib/python3.10/dist-packages (from nltk>=3.2.1->newspaper3k) (4.66.4)\n",
            "Requirement already satisfied: charset-normalizer<4,>=2 in /usr/local/lib/python3.10/dist-packages (from requests>=2.10.0->newspaper3k) (3.3.2)\n",
            "Requirement already satisfied: idna<4,>=2.5 in /usr/local/lib/python3.10/dist-packages (from requests>=2.10.0->newspaper3k) (3.7)\n",
            "Requirement already satisfied: urllib3<3,>=1.21.1 in /usr/local/lib/python3.10/dist-packages (from requests>=2.10.0->newspaper3k) (2.0.7)\n",
            "Requirement already satisfied: certifi>=2017.4.17 in /usr/local/lib/python3.10/dist-packages (from requests>=2.10.0->newspaper3k) (2024.2.2)\n",
            "Collecting requests-file>=1.4 (from tldextract>=2.0.1->newspaper3k)\n",
            "  Downloading requests_file-2.0.0-py2.py3-none-any.whl (4.2 kB)\n",
            "Requirement already satisfied: filelock>=3.0.8 in /usr/local/lib/python3.10/dist-packages (from tldextract>=2.0.1->newspaper3k) (3.14.0)\n",
            "Building wheels for collected packages: tinysegmenter, feedfinder2, jieba3k, sgmllib3k\n",
            "  Building wheel for tinysegmenter (setup.py) ... \u001b[?25l\u001b[?25hdone\n",
            "  Created wheel for tinysegmenter: filename=tinysegmenter-0.3-py3-none-any.whl size=13538 sha256=9dcb22d93ede082eb185ee5dcdcdf070c7c28dca45eac548a5861a8bbc7fa984\n",
            "  Stored in directory: /root/.cache/pip/wheels/c8/d6/6c/384f58df48c00b9a31d638005143b5b3ac62c3d25fb1447f23\n",
            "  Building wheel for feedfinder2 (setup.py) ... \u001b[?25l\u001b[?25hdone\n",
            "  Created wheel for feedfinder2: filename=feedfinder2-0.0.4-py3-none-any.whl size=3340 sha256=d96d05cb374151492e7092a7099d0cefab412199a8c42f2223968d86609a40ae\n",
            "  Stored in directory: /root/.cache/pip/wheels/97/02/e7/a1ff1760e12bdbaab0ac824fae5c1bc933e41c4ccd6a8f8edb\n",
            "  Building wheel for jieba3k (setup.py) ... \u001b[?25l\u001b[?25hdone\n",
            "  Created wheel for jieba3k: filename=jieba3k-0.35.1-py3-none-any.whl size=7398382 sha256=fa29c25ed6f7b4db19425aa8787e73d057b153fca0b17c4772022a17f3fa3e43\n",
            "  Stored in directory: /root/.cache/pip/wheels/7a/c4/0c/12a9a314ecac499456c4c3b2fcc2f635a3b45a39dfbd240299\n",
            "  Building wheel for sgmllib3k (setup.py) ... \u001b[?25l\u001b[?25hdone\n",
            "  Created wheel for sgmllib3k: filename=sgmllib3k-1.0.0-py3-none-any.whl size=6049 sha256=dd9b029af962f36b0352cd501645a9a87bd9f1f1910824ce9500a384a0659618\n",
            "  Stored in directory: /root/.cache/pip/wheels/f0/69/93/a47e9d621be168e9e33c7ce60524393c0b92ae83cf6c6e89c5\n",
            "Successfully built tinysegmenter feedfinder2 jieba3k sgmllib3k\n",
            "Installing collected packages: tinysegmenter, sgmllib3k, jieba3k, feedparser, cssselect, requests-file, feedfinder2, tldextract, newspaper3k\n",
            "Successfully installed cssselect-1.2.0 feedfinder2-0.0.4 feedparser-6.0.11 jieba3k-0.35.1 newspaper3k-0.2.8 requests-file-2.0.0 sgmllib3k-1.0.0 tinysegmenter-0.3 tldextract-5.1.2\n"
          ]
        }
      ],
      "source": [
        "pip install newspaper3k"
      ]
    },
    {
      "cell_type": "code",
      "execution_count": null,
      "metadata": {
        "id": "edCRSRZ8jSOB"
      },
      "outputs": [],
      "source": [
        "from newspaper import Article\n",
        "import random\n",
        "import string\n",
        "import nltk\n",
        "from sklearn.feature_extraction.text import CountVectorizer\n",
        "from sklearn.metrics.pairwise import cosine_similarity\n",
        "import numpy as np\n",
        "import warnings\n",
        "warnings.filterwarnings('ignore')"
      ]
    },
    {
      "cell_type": "code",
      "execution_count": null,
      "metadata": {
        "colab": {
          "base_uri": "https://localhost:8080/"
        },
        "id": "NzE3xWDop6fy",
        "outputId": "a5afca62-7a0c-490c-bc6d-c7a73517b76a"
      },
      "outputs": [
        {
          "data": {
            "text/plain": [
              "True"
            ]
          },
          "execution_count": 5,
          "metadata": {},
          "output_type": "execute_result"
        }
      ],
      "source": [
        "nltk.download('punkt',quiet=True)"
      ]
    },
    {
      "cell_type": "code",
      "execution_count": null,
      "metadata": {
        "id": "sLarao9BqR1E"
      },
      "outputs": [],
      "source": [
        "article=Article('https://www.javatpoint.com/history-of-artificial-intelligence')\n",
        "article.download()\n",
        "article.parse()\n",
        "article.nlp()\n",
        "corpus=article.text"
      ]
    },
    {
      "cell_type": "code",
      "execution_count": null,
      "metadata": {
        "colab": {
          "base_uri": "https://localhost:8080/"
        },
        "id": "6ml84GwjrVSP",
        "outputId": "c092fc5f-12f7-46b8-b382-660070377e75"
      },
      "outputs": [
        {
          "name": "stdout",
          "output_type": "stream",
          "text": [
            "next → ← prev History of Artificial Intelligence Artificial Intelligence is not a new word and not a new technology for researchers. This technology is much older than you would imagine. Even there are the myths of Mechanical men in Ancient Greek and Egyptian Myths. Following are some milestones in the history of AI which defines the journey from the AI generation to till date development. Maturation of Artificial Intelligence (1943-1952) Between 1943 and 1952, there was notable progress in the expansion of artificial intelligence (AI). Throughout this period, AI transitioned from a mere concept to tangible experiments and practical applications. Here are some key events that happened during this period: Year 1943: The first work which is now recognized as AI was done by Warren McCulloch and Walter pits in 1943. They proposed a model of artificial neurons .\n",
            "\n",
            "The first work which is now recognized as AI was done by Warren McCulloch and Walter pits in 1943. They proposed a model of . Year 1949: Donald Hebb demonstrated an updating rule for modifying the connection strength between neurons. His rule is now called Hebbian learning.\n",
            "\n",
            "Donald Hebb demonstrated an updating rule for modifying the connection strength between neurons. His rule is now called Hebbian learning. Year 1950: The Alan Turing who was an English mathematician and pioneered Machine learning in 1950. Alan Turing publishes \"Computing Machinery and Intelligence\" in which he proposed a test. The test can check the machine's ability to exhibit intelligent behavior equivalent to human intelligence, called a Turing test .\n",
            "\n",
            "The Alan Turing who was an English mathematician and pioneered Machine learning in 1950. Alan Turing publishes in which he proposed a test. The test can check the machine's ability to exhibit intelligent behavior equivalent to human intelligence, called a . Year 1951: Marvin Minsky and Dean Edmonds created the initial artificial neural network (ANN) named SNARC. They utilized 3,000 vacuum tubes to mimic a network of 40 neurons. The birth of Artificial Intelligence (1952-1956) From 1952 to 1956, AI surfaced as a unique domain of investigation. During this period, pioneers and forward-thinkers commenced the groundwork for what would ultimately transform into a revolutionary technological domain. Here are notable occurrences from this era: Year 1952: Arthur Samuel pioneered the creation of the Samuel Checkers-Playing Program, which marked the world's first self-learning program for playing games.\n",
            "\n",
            "Arthur Samuel pioneered the creation of the Samuel Checkers-Playing Program, which marked the world's first self-learning program for playing games. Year 1955: An Allen Newell and Herbert A. Simon created the \"first artificial intelligence program\"Which was named as \"Logic Theorist\" . This program had proved 38 of 52 Mathematics theorems, and find new and more elegant proofs for some theorems.\n",
            "\n",
            "An Allen Newell and Herbert A. Simon created the \"first artificial intelligence program\"Which was named as . This program had proved 38 of 52 Mathematics theorems, and find new and more elegant proofs for some theorems. Year 1956: The word \"Artificial Intelligence\" first adopted by American Computer scientist John McCarthy at the Dartmouth Conference. For the first time, AI coined as an academic field. At that time high-level computer languages such as FORTRAN, LISP, or COBOL were invented. And the enthusiasm for AI was very high at that time. The golden years-Early enthusiasm (1956-1974) The period from 1956 to 1974 is commonly known as the \"Golden Age\" of artificial intelligence (AI). In this timeframe, AI researchers and innovators were filled with enthusiasm and achieved remarkable advancements in the field. Here are some notable events from this era: Year 1958: During this period, Frank Rosenblatt introduced the perceptron, one of the early artificial neural networks with the ability to learn from data. This invention laid the foundation for modern neural networks. Simultaneously, John McCarthy developed the Lisp programming language, which swiftly found favor within the AI community, becoming highly popular among developers.\n",
            "\n",
            "During this period, Frank Rosenblatt introduced the perceptron, one of the early artificial neural networks with the ability to learn from data. This invention laid the foundation for modern neural networks. Simultaneously, John McCarthy developed the Lisp programming language, which swiftly found favor within the AI community, becoming highly popular among developers. Year 1959: Arthur Samuel is credited with introducing the phrase \"machine learning\" in a pivotal paper in which he proposed that computers could be programmed to surpass their creators in performance. Additionally, Oliver Selfridge made a notable contribution to machine learning with his publication \"Pandemonium: A Paradigm for Learning.\" This work outlined a model capable of self-improvement, enabling it to discover patterns in events more effectively.\n",
            "\n",
            "Arthur Samuel is credited with introducing the phrase \"machine learning\" in a pivotal paper in which he proposed that computers could be programmed to surpass their creators in performance. Additionally, Oliver Selfridge made a notable contribution to machine learning with his publication \"Pandemonium: A Paradigm for Learning.\" This work outlined a model capable of self-improvement, enabling it to discover patterns in events more effectively. Year 1964: During his time as a doctoral candidate at MIT, Daniel Bobrow created STUDENT, one of the early programs for natural language processing (NLP), with the specific purpose of solving algebra word problems.\n",
            "\n",
            "During his time as a doctoral candidate at MIT, Daniel Bobrow created STUDENT, one of the early programs for natural language processing (NLP), with the specific purpose of solving algebra word problems. Year 1965: The initial expert system, Dendral, was devised by Edward Feigenbaum, Bruce G. Buchanan, Joshua Lederberg, and Carl Djerassi. It aided organic chemists in identifying unfamiliar organic compounds.\n",
            "\n",
            "The initial expert system, Dendral, was devised by Edward Feigenbaum, Bruce G. Buchanan, Joshua Lederberg, and Carl Djerassi. It aided organic chemists in identifying unfamiliar organic compounds. Year 1966: The researchers emphasized developing algorithms that can solve mathematical problems. Joseph Weizenbaum created the first chatbot in 1966, which was named ELIZA. Furthermore, Stanford Research Institute created Shakey, the earliest mobile intelligent robot incorporating AI, computer vision, navigation, and NLP. It can be considered a precursor to today's self-driving cars and drones.\n",
            "\n",
            "The researchers emphasized developing algorithms that can solve mathematical problems. Joseph Weizenbaum created the first chatbot in 1966, which was named ELIZA. Furthermore, Stanford Research Institute created Shakey, the earliest mobile intelligent robot incorporating AI, computer vision, navigation, and NLP. It can be considered a precursor to today's self-driving cars and drones. Year 1968: Terry Winograd developed SHRDLU, which was the pioneering multimodal AI capable of following user instructions to manipulate and reason within a world of blocks.\n",
            "\n",
            "Terry Winograd developed SHRDLU, which was the pioneering multimodal AI capable of following user instructions to manipulate and reason within a world of blocks. Year 1969: Arthur Bryson and Yu-Chi Ho outlined a learning algorithm known as backpropagation, which enabled the development of multilayer artificial neural networks. This represented a significant advancement beyond the perceptron and laid the groundwork for deep learning. Additionally, Marvin Minsky and Seymour Papert authored the book \"Perceptrons,\" which elucidated the constraints of basic neural networks. This publication led to a decline in neural network research and a resurgence in symbolic AI research.\n",
            "\n",
            "Arthur Bryson and Yu-Chi Ho outlined a learning algorithm known as backpropagation, which enabled the development of multilayer artificial neural networks. This represented a significant advancement beyond the perceptron and laid the groundwork for deep learning. Additionally, Marvin Minsky and Seymour Papert authored the book \"Perceptrons,\" which elucidated the constraints of basic neural networks. This publication led to a decline in neural network research and a resurgence in symbolic AI research. Year 1972: The first intelligent humanoid robot was built in Japan, which was named WABOT-1.\n",
            "\n",
            "The first intelligent humanoid robot was built in Japan, which was named WABOT-1. Year 1973: James Lighthill published the report titled \"Artificial Intelligence: A General Survey,\" resulting in a substantial reduction in the British government's backing for AI research. The first AI winter (1974-1980) The initial AI winter, occurring from 1974 to 1980, is known as a tough period for artificial intelligence (AI). During this time, there was a substantial decrease in research funding, and AI faced a sense of letdown. The duration between years 1974 to 1980 was the first AI winter duration. AI winter refers to the time period where computer scientist dealt with a severe shortage of funding from government for AI researches.\n",
            "\n",
            "During AI winters, an interest of publicity on artificial intelligence was decreased. A boom of AI (1980-1987) Between 1980 and 1987, AI underwent a renaissance and newfound vitality after the challenging era of the First AI Winter. Here are notable occurrences from this timeframe: In 1980, the first national conference of the American Association of Artificial Intelligence was held at Stanford University.\n",
            "\n",
            "Year 1980: After AI's winter duration, AI came back with an \"Expert System\". Expert systems were programmed to emulate the decision-making ability of a human expert. Additionally, Symbolics Lisp machines were brought into commercial use, marking the onset of an AI resurgence. However, in subsequent years, the Lisp machine market experienced a significant downturn.\n",
            "\n",
            "After AI's winter duration, AI came back with an \"Expert System\". Expert systems were programmed to emulate the decision-making ability of a human expert. Additionally, Symbolics Lisp machines were brought into commercial use, marking the onset of an AI resurgence. However, in subsequent years, the Lisp machine market experienced a significant downturn. Year 1981: Danny Hillis created parallel computers tailored for AI and various computational functions, featuring an architecture akin to contemporary GPUs.\n",
            "\n",
            "Danny Hillis created parallel computers tailored for AI and various computational functions, featuring an architecture akin to contemporary GPUs. Year 1984: Marvin Minsky and Roger Schank introduced the phrase \"AI winter\" during a gathering of the Association for the Advancement of Artificial Intelligence. They cautioned the business world that exaggerated expectations about AI would result in disillusionment and the eventual downfall of the industry, which indeed occurred three years later.\n",
            "\n",
            "Marvin Minsky and Roger Schank introduced the phrase \"AI winter\" during a gathering of the Association for the Advancement of Artificial Intelligence. They cautioned the business world that exaggerated expectations about AI would result in disillusionment and the eventual downfall of the industry, which indeed occurred three years later. Year 1985: Judea Pearl introduced Bayesian network causal analysis, presenting statistical methods for encoding uncertainty in computer systems. The second AI winter (1987-1993) The duration between the years 1987 to 1993 was the second AI Winter duration.\n",
            "\n",
            "Again Investors and government stopped in funding for AI research as due to high cost but not efficient result. The expert system such as XCON was very cost effective. The emergence of intelligent agents (1993-2011) Between 1993 and 2011, there were significant leaps forward in artificial intelligence (AI), particularly in the development of intelligent computer programs. During this era, AI professionals shifted their emphasis from attempting to match human intelligence to crafting pragmatic, ingenious software tailored to specific tasks. Here are some noteworthy occurrences from this timeframe: Year 1997: In 1997, IBM's Deep Blue achieved a historic milestone by defeating world chess champion Gary Kasparov, marking the first time a computer triumphed over a reigning world chess champion. Moreover, Sepp Hochreiter and Jürgen Schmidhuber introduced the Long Short-Term Memory recurrent neural network, revolutionizing the capability to process entire sequences of data such as speech or video.\n",
            "\n",
            "In 1997, IBM's Deep Blue achieved a historic milestone by defeating world chess champion Gary Kasparov, marking the first time a computer triumphed over a reigning world chess champion. Moreover, Sepp Hochreiter and Jürgen Schmidhuber introduced the Long Short-Term Memory recurrent neural network, revolutionizing the capability to process entire sequences of data such as speech or video. Year 2002: for the first time, AI entered the home in the form of Roomba, a vacuum cleaner.\n",
            "\n",
            "for the first time, AI entered the home in the form of Roomba, a vacuum cleaner. Year 2006: AI came into the Business world till the year 2006. Companies like Facebook, Twitter, and Netflix also started using AI.\n",
            "\n",
            "AI came into the Business world till the year 2006. Companies like Facebook, Twitter, and Netflix also started using AI. Year 2009: Rajat Raina, Anand Madhavan, and Andrew Ng released the paper titled \"Utilizing Graphics Processors for Extensive Deep Unsupervised Learning,\" introducing the concept of employing GPUs for the training of expansive neural networks.\n",
            "\n",
            "Rajat Raina, Anand Madhavan, and Andrew Ng released the paper titled \"Utilizing Graphics Processors for Extensive Deep Unsupervised Learning,\" introducing the concept of employing GPUs for the training of expansive neural networks. Year 2011: Jürgen Schmidhuber, Dan Claudiu Cire?an, Ueli Meier, and Jonathan Masci created the initial CNN that attained \"superhuman\" performance by emerging as the victor in the German Traffic Sign Recognition competition. Furthermore, Apple launched Siri, a voice-activated personal assistant capable of generating responses and executing actions in response to voice commands. Deep learning, big data and artificial general intelligence (2011-present) From 2011 to the present moment, significant advancements have unfolded within the artificial intelligence (AI) domain. These achievements can be attributed to the amalgamation of deep learning, extensive data application, and the ongoing quest for artificial general intelligence (AGI). Here are notable occurrences from this timeframe: Year 2011: In 2011, IBM's Watson won Jeopardy, a quiz show where it had to solve complex questions as well as riddles. Watson had proved that it could understand natural language and can solve tricky questions quickly.\n",
            "\n",
            "In 2011, IBM's Watson won Jeopardy, a quiz show where it had to solve complex questions as well as riddles. Watson had proved that it could understand natural language and can solve tricky questions quickly. Year 2012: Google launched an Android app feature, \"Google Now\", which was able to provide information to the user as a prediction. Further, Geoffrey Hinton, Ilya Sutskever, and Alex Krizhevsky presented a deep CNN structure that emerged victorious in the ImageNet challenge, sparking the proliferation of research and application in the field of deep learning.\n",
            "\n",
            "Google launched an Android app feature, \"Google Now\", which was able to provide information to the user as a prediction. Further, Geoffrey Hinton, Ilya Sutskever, and Alex Krizhevsky presented a deep CNN structure that emerged victorious in the ImageNet challenge, sparking the proliferation of research and application in the field of deep learning. Year 2013: China's Tianhe-2 system achieved a remarkable feat by doubling the speed of the world's leading supercomputers to reach 33.86 petaflops. It retained its status as the world's fastest system for the third consecutive time. Furthermore, DeepMind unveiled deep reinforcement learning, a CNN that acquired skills through repetitive learning and rewards, ultimately surpassing human experts in playing games. Also, Google researcher Tomas Mikolov and his team introduced Word2vec, a tool designed to automatically discern the semantic connections among words.\n",
            "\n",
            "China's Tianhe-2 system achieved a remarkable feat by doubling the speed of the world's leading supercomputers to reach 33.86 petaflops. It retained its status as the world's fastest system for the third consecutive time. Furthermore, DeepMind unveiled deep reinforcement learning, a CNN that acquired skills through repetitive learning and rewards, ultimately surpassing human experts in playing games. Also, Google researcher Tomas Mikolov and his team introduced Word2vec, a tool designed to automatically discern the semantic connections among words. Year 2014: In the year 2014, Chatbot \"Eugene Goostman\" won a competition in the infamous \"Turing test.\" Whereas Ian Goodfellow and his team pioneered generative adversarial networks (GANs), a type of machine learning framework employed for producing images, altering pictures, and crafting deepfakes, and Diederik Kingma and Max Welling introduced variational autoencoders (VAEs) for generating images, videos, and text. Also, Facebook engineered the DeepFace deep learning facial recognition system, capable of identifying human faces in digital images with accuracy nearly comparable to human capabilities.\n",
            "\n",
            "In the year 2014, Chatbot \"Eugene Goostman\" won a competition in the infamous \"Turing test.\" Whereas Ian Goodfellow and his team pioneered generative adversarial networks (GANs), a type of machine learning framework employed for producing images, altering pictures, and crafting deepfakes, and Diederik Kingma and Max Welling introduced variational autoencoders (VAEs) for generating images, videos, and text. Also, Facebook engineered the DeepFace deep learning facial recognition system, capable of identifying human faces in digital images with accuracy nearly comparable to human capabilities. Year 2016: DeepMind's AlphaGo secured victory over the esteemed Go player Lee Sedol in Seoul, South Korea, prompting reminiscence of the Kasparov chess match against Deep Blue nearly two decades earlier.Whereas Uber initiated a pilot program for self-driving cars in Pittsburgh, catering to a limited group of users.\n",
            "\n",
            "DeepMind's AlphaGo secured victory over the esteemed Go player Lee Sedol in Seoul, South Korea, prompting reminiscence of the Kasparov chess match against Deep Blue nearly two decades earlier.Whereas Uber initiated a pilot program for self-driving cars in Pittsburgh, catering to a limited group of users. Year 2018: The \"Project Debater\" from IBM debated on complex topics with two master debaters and also performed extremely well.\n",
            "\n",
            "The \"Project Debater\" from IBM debated on complex topics with two master debaters and also performed extremely well. Google has demonstrated an AI program, \"Duplex,\" which was a virtual assistant that had taken hairdresser appointments on call, and the lady on the other side didn't notice that she was talking with the machine.\n",
            "\n",
            "Year 2021: OpenAI unveiled the Dall-E multimodal AI system, capable of producing images based on textual prompts.\n",
            "\n",
            "OpenAI unveiled the Dall-E multimodal AI system, capable of producing images based on textual prompts. Year 2022: In November, OpenAI launched ChatGPT, offering a chat-oriented interface to its GPT-3.5 LLM. Now AI has developed to a remarkable level. The concept of Deep learning, big data, and data science are now trending like a boom. Nowadays companies like Google, Facebook, IBM, and Amazon are working with AI and creating amazing devices. The future of Artificial Intelligence is inspiring and will come with high intelligence. Next Topic Types of AI\n",
            "\n",
            "\n",
            "\n",
            "← prev next →\n",
            "\n",
            "\n",
            "\n",
            "\n"
          ]
        }
      ],
      "source": [
        "print(corpus)"
      ]
    },
    {
      "cell_type": "code",
      "execution_count": null,
      "metadata": {
        "id": "TcgF3G-BrgH8"
      },
      "outputs": [],
      "source": [
        "text=corpus\n",
        "sentence_list=nltk.sent_tokenize(text)\n"
      ]
    },
    {
      "cell_type": "code",
      "execution_count": null,
      "metadata": {
        "colab": {
          "base_uri": "https://localhost:8080/"
        },
        "id": "3jCywpMHrySv",
        "outputId": "db0c13df-d29f-4e04-fc12-970a8d6ba214"
      },
      "outputs": [
        {
          "name": "stdout",
          "output_type": "stream",
          "text": [
            "['next → ← prev History of Artificial Intelligence Artificial Intelligence is not a new word and not a new technology for researchers.', 'This technology is much older than you would imagine.', 'Even there are the myths of Mechanical men in Ancient Greek and Egyptian Myths.', 'Following are some milestones in the history of AI which defines the journey from the AI generation to till date development.', 'Maturation of Artificial Intelligence (1943-1952) Between 1943 and 1952, there was notable progress in the expansion of artificial intelligence (AI).', 'Throughout this period, AI transitioned from a mere concept to tangible experiments and practical applications.', 'Here are some key events that happened during this period: Year 1943: The first work which is now recognized as AI was done by Warren McCulloch and Walter pits in 1943.', 'They proposed a model of artificial neurons .', 'The first work which is now recognized as AI was done by Warren McCulloch and Walter pits in 1943.', 'They proposed a model of .', 'Year 1949: Donald Hebb demonstrated an updating rule for modifying the connection strength between neurons.', 'His rule is now called Hebbian learning.', 'Donald Hebb demonstrated an updating rule for modifying the connection strength between neurons.', 'His rule is now called Hebbian learning.', 'Year 1950: The Alan Turing who was an English mathematician and pioneered Machine learning in 1950.', 'Alan Turing publishes \"Computing Machinery and Intelligence\" in which he proposed a test.', \"The test can check the machine's ability to exhibit intelligent behavior equivalent to human intelligence, called a Turing test .\", 'The Alan Turing who was an English mathematician and pioneered Machine learning in 1950.', 'Alan Turing publishes in which he proposed a test.', \"The test can check the machine's ability to exhibit intelligent behavior equivalent to human intelligence, called a .\", 'Year 1951: Marvin Minsky and Dean Edmonds created the initial artificial neural network (ANN) named SNARC.', 'They utilized 3,000 vacuum tubes to mimic a network of 40 neurons.', 'The birth of Artificial Intelligence (1952-1956) From 1952 to 1956, AI surfaced as a unique domain of investigation.', 'During this period, pioneers and forward-thinkers commenced the groundwork for what would ultimately transform into a revolutionary technological domain.', \"Here are notable occurrences from this era: Year 1952: Arthur Samuel pioneered the creation of the Samuel Checkers-Playing Program, which marked the world's first self-learning program for playing games.\", \"Arthur Samuel pioneered the creation of the Samuel Checkers-Playing Program, which marked the world's first self-learning program for playing games.\", 'Year 1955: An Allen Newell and Herbert A. Simon created the \"first artificial intelligence program\"Which was named as \"Logic Theorist\" .', 'This program had proved 38 of 52 Mathematics theorems, and find new and more elegant proofs for some theorems.', 'An Allen Newell and Herbert A. Simon created the \"first artificial intelligence program\"Which was named as .', 'This program had proved 38 of 52 Mathematics theorems, and find new and more elegant proofs for some theorems.', 'Year 1956: The word \"Artificial Intelligence\" first adopted by American Computer scientist John McCarthy at the Dartmouth Conference.', 'For the first time, AI coined as an academic field.', 'At that time high-level computer languages such as FORTRAN, LISP, or COBOL were invented.', 'And the enthusiasm for AI was very high at that time.', 'The golden years-Early enthusiasm (1956-1974) The period from 1956 to 1974 is commonly known as the \"Golden Age\" of artificial intelligence (AI).', 'In this timeframe, AI researchers and innovators were filled with enthusiasm and achieved remarkable advancements in the field.', 'Here are some notable events from this era: Year 1958: During this period, Frank Rosenblatt introduced the perceptron, one of the early artificial neural networks with the ability to learn from data.', 'This invention laid the foundation for modern neural networks.', 'Simultaneously, John McCarthy developed the Lisp programming language, which swiftly found favor within the AI community, becoming highly popular among developers.', 'During this period, Frank Rosenblatt introduced the perceptron, one of the early artificial neural networks with the ability to learn from data.', 'This invention laid the foundation for modern neural networks.', 'Simultaneously, John McCarthy developed the Lisp programming language, which swiftly found favor within the AI community, becoming highly popular among developers.', 'Year 1959: Arthur Samuel is credited with introducing the phrase \"machine learning\" in a pivotal paper in which he proposed that computers could be programmed to surpass their creators in performance.', 'Additionally, Oliver Selfridge made a notable contribution to machine learning with his publication \"Pandemonium: A Paradigm for Learning.\"', 'This work outlined a model capable of self-improvement, enabling it to discover patterns in events more effectively.', 'Arthur Samuel is credited with introducing the phrase \"machine learning\" in a pivotal paper in which he proposed that computers could be programmed to surpass their creators in performance.', 'Additionally, Oliver Selfridge made a notable contribution to machine learning with his publication \"Pandemonium: A Paradigm for Learning.\"', 'This work outlined a model capable of self-improvement, enabling it to discover patterns in events more effectively.', 'Year 1964: During his time as a doctoral candidate at MIT, Daniel Bobrow created STUDENT, one of the early programs for natural language processing (NLP), with the specific purpose of solving algebra word problems.', 'During his time as a doctoral candidate at MIT, Daniel Bobrow created STUDENT, one of the early programs for natural language processing (NLP), with the specific purpose of solving algebra word problems.', 'Year 1965: The initial expert system, Dendral, was devised by Edward Feigenbaum, Bruce G. Buchanan, Joshua Lederberg, and Carl Djerassi.', 'It aided organic chemists in identifying unfamiliar organic compounds.', 'The initial expert system, Dendral, was devised by Edward Feigenbaum, Bruce G. Buchanan, Joshua Lederberg, and Carl Djerassi.', 'It aided organic chemists in identifying unfamiliar organic compounds.', 'Year 1966: The researchers emphasized developing algorithms that can solve mathematical problems.', 'Joseph Weizenbaum created the first chatbot in 1966, which was named ELIZA.', 'Furthermore, Stanford Research Institute created Shakey, the earliest mobile intelligent robot incorporating AI, computer vision, navigation, and NLP.', \"It can be considered a precursor to today's self-driving cars and drones.\", 'The researchers emphasized developing algorithms that can solve mathematical problems.', 'Joseph Weizenbaum created the first chatbot in 1966, which was named ELIZA.', 'Furthermore, Stanford Research Institute created Shakey, the earliest mobile intelligent robot incorporating AI, computer vision, navigation, and NLP.', \"It can be considered a precursor to today's self-driving cars and drones.\", 'Year 1968: Terry Winograd developed SHRDLU, which was the pioneering multimodal AI capable of following user instructions to manipulate and reason within a world of blocks.', 'Terry Winograd developed SHRDLU, which was the pioneering multimodal AI capable of following user instructions to manipulate and reason within a world of blocks.', 'Year 1969: Arthur Bryson and Yu-Chi Ho outlined a learning algorithm known as backpropagation, which enabled the development of multilayer artificial neural networks.', 'This represented a significant advancement beyond the perceptron and laid the groundwork for deep learning.', 'Additionally, Marvin Minsky and Seymour Papert authored the book \"Perceptrons,\" which elucidated the constraints of basic neural networks.', 'This publication led to a decline in neural network research and a resurgence in symbolic AI research.', 'Arthur Bryson and Yu-Chi Ho outlined a learning algorithm known as backpropagation, which enabled the development of multilayer artificial neural networks.', 'This represented a significant advancement beyond the perceptron and laid the groundwork for deep learning.', 'Additionally, Marvin Minsky and Seymour Papert authored the book \"Perceptrons,\" which elucidated the constraints of basic neural networks.', 'This publication led to a decline in neural network research and a resurgence in symbolic AI research.', 'Year 1972: The first intelligent humanoid robot was built in Japan, which was named WABOT-1.', 'The first intelligent humanoid robot was built in Japan, which was named WABOT-1.', 'Year 1973: James Lighthill published the report titled \"Artificial Intelligence: A General Survey,\" resulting in a substantial reduction in the British government\\'s backing for AI research.', 'The first AI winter (1974-1980) The initial AI winter, occurring from 1974 to 1980, is known as a tough period for artificial intelligence (AI).', 'During this time, there was a substantial decrease in research funding, and AI faced a sense of letdown.', 'The duration between years 1974 to 1980 was the first AI winter duration.', 'AI winter refers to the time period where computer scientist dealt with a severe shortage of funding from government for AI researches.', 'During AI winters, an interest of publicity on artificial intelligence was decreased.', 'A boom of AI (1980-1987) Between 1980 and 1987, AI underwent a renaissance and newfound vitality after the challenging era of the First AI Winter.', 'Here are notable occurrences from this timeframe: In 1980, the first national conference of the American Association of Artificial Intelligence was held at Stanford University.', 'Year 1980: After AI\\'s winter duration, AI came back with an \"Expert System\".', 'Expert systems were programmed to emulate the decision-making ability of a human expert.', 'Additionally, Symbolics Lisp machines were brought into commercial use, marking the onset of an AI resurgence.', 'However, in subsequent years, the Lisp machine market experienced a significant downturn.', 'After AI\\'s winter duration, AI came back with an \"Expert System\".', 'Expert systems were programmed to emulate the decision-making ability of a human expert.', 'Additionally, Symbolics Lisp machines were brought into commercial use, marking the onset of an AI resurgence.', 'However, in subsequent years, the Lisp machine market experienced a significant downturn.', 'Year 1981: Danny Hillis created parallel computers tailored for AI and various computational functions, featuring an architecture akin to contemporary GPUs.', 'Danny Hillis created parallel computers tailored for AI and various computational functions, featuring an architecture akin to contemporary GPUs.', 'Year 1984: Marvin Minsky and Roger Schank introduced the phrase \"AI winter\" during a gathering of the Association for the Advancement of Artificial Intelligence.', 'They cautioned the business world that exaggerated expectations about AI would result in disillusionment and the eventual downfall of the industry, which indeed occurred three years later.', 'Marvin Minsky and Roger Schank introduced the phrase \"AI winter\" during a gathering of the Association for the Advancement of Artificial Intelligence.', 'They cautioned the business world that exaggerated expectations about AI would result in disillusionment and the eventual downfall of the industry, which indeed occurred three years later.', 'Year 1985: Judea Pearl introduced Bayesian network causal analysis, presenting statistical methods for encoding uncertainty in computer systems.', 'The second AI winter (1987-1993) The duration between the years 1987 to 1993 was the second AI Winter duration.', 'Again Investors and government stopped in funding for AI research as due to high cost but not efficient result.', 'The expert system such as XCON was very cost effective.', 'The emergence of intelligent agents (1993-2011) Between 1993 and 2011, there were significant leaps forward in artificial intelligence (AI), particularly in the development of intelligent computer programs.', 'During this era, AI professionals shifted their emphasis from attempting to match human intelligence to crafting pragmatic, ingenious software tailored to specific tasks.', \"Here are some noteworthy occurrences from this timeframe: Year 1997: In 1997, IBM's Deep Blue achieved a historic milestone by defeating world chess champion Gary Kasparov, marking the first time a computer triumphed over a reigning world chess champion.\", 'Moreover, Sepp Hochreiter and Jürgen Schmidhuber introduced the Long Short-Term Memory recurrent neural network, revolutionizing the capability to process entire sequences of data such as speech or video.', \"In 1997, IBM's Deep Blue achieved a historic milestone by defeating world chess champion Gary Kasparov, marking the first time a computer triumphed over a reigning world chess champion.\", 'Moreover, Sepp Hochreiter and Jürgen Schmidhuber introduced the Long Short-Term Memory recurrent neural network, revolutionizing the capability to process entire sequences of data such as speech or video.', 'Year 2002: for the first time, AI entered the home in the form of Roomba, a vacuum cleaner.', 'for the first time, AI entered the home in the form of Roomba, a vacuum cleaner.', 'Year 2006: AI came into the Business world till the year 2006.', 'Companies like Facebook, Twitter, and Netflix also started using AI.', 'AI came into the Business world till the year 2006.', 'Companies like Facebook, Twitter, and Netflix also started using AI.', 'Year 2009: Rajat Raina, Anand Madhavan, and Andrew Ng released the paper titled \"Utilizing Graphics Processors for Extensive Deep Unsupervised Learning,\" introducing the concept of employing GPUs for the training of expansive neural networks.', 'Rajat Raina, Anand Madhavan, and Andrew Ng released the paper titled \"Utilizing Graphics Processors for Extensive Deep Unsupervised Learning,\" introducing the concept of employing GPUs for the training of expansive neural networks.', 'Year 2011: Jürgen Schmidhuber, Dan Claudiu Cire?an, Ueli Meier, and Jonathan Masci created the initial CNN that attained \"superhuman\" performance by emerging as the victor in the German Traffic Sign Recognition competition.', 'Furthermore, Apple launched Siri, a voice-activated personal assistant capable of generating responses and executing actions in response to voice commands.', 'Deep learning, big data and artificial general intelligence (2011-present) From 2011 to the present moment, significant advancements have unfolded within the artificial intelligence (AI) domain.', 'These achievements can be attributed to the amalgamation of deep learning, extensive data application, and the ongoing quest for artificial general intelligence (AGI).', \"Here are notable occurrences from this timeframe: Year 2011: In 2011, IBM's Watson won Jeopardy, a quiz show where it had to solve complex questions as well as riddles.\", 'Watson had proved that it could understand natural language and can solve tricky questions quickly.', \"In 2011, IBM's Watson won Jeopardy, a quiz show where it had to solve complex questions as well as riddles.\", 'Watson had proved that it could understand natural language and can solve tricky questions quickly.', 'Year 2012: Google launched an Android app feature, \"Google Now\", which was able to provide information to the user as a prediction.', 'Further, Geoffrey Hinton, Ilya Sutskever, and Alex Krizhevsky presented a deep CNN structure that emerged victorious in the ImageNet challenge, sparking the proliferation of research and application in the field of deep learning.', 'Google launched an Android app feature, \"Google Now\", which was able to provide information to the user as a prediction.', 'Further, Geoffrey Hinton, Ilya Sutskever, and Alex Krizhevsky presented a deep CNN structure that emerged victorious in the ImageNet challenge, sparking the proliferation of research and application in the field of deep learning.', \"Year 2013: China's Tianhe-2 system achieved a remarkable feat by doubling the speed of the world's leading supercomputers to reach 33.86 petaflops.\", \"It retained its status as the world's fastest system for the third consecutive time.\", 'Furthermore, DeepMind unveiled deep reinforcement learning, a CNN that acquired skills through repetitive learning and rewards, ultimately surpassing human experts in playing games.', 'Also, Google researcher Tomas Mikolov and his team introduced Word2vec, a tool designed to automatically discern the semantic connections among words.', \"China's Tianhe-2 system achieved a remarkable feat by doubling the speed of the world's leading supercomputers to reach 33.86 petaflops.\", \"It retained its status as the world's fastest system for the third consecutive time.\", 'Furthermore, DeepMind unveiled deep reinforcement learning, a CNN that acquired skills through repetitive learning and rewards, ultimately surpassing human experts in playing games.', 'Also, Google researcher Tomas Mikolov and his team introduced Word2vec, a tool designed to automatically discern the semantic connections among words.', 'Year 2014: In the year 2014, Chatbot \"Eugene Goostman\" won a competition in the infamous \"Turing test.\"', 'Whereas Ian Goodfellow and his team pioneered generative adversarial networks (GANs), a type of machine learning framework employed for producing images, altering pictures, and crafting deepfakes, and Diederik Kingma and Max Welling introduced variational autoencoders (VAEs) for generating images, videos, and text.', 'Also, Facebook engineered the DeepFace deep learning facial recognition system, capable of identifying human faces in digital images with accuracy nearly comparable to human capabilities.', 'In the year 2014, Chatbot \"Eugene Goostman\" won a competition in the infamous \"Turing test.\"', 'Whereas Ian Goodfellow and his team pioneered generative adversarial networks (GANs), a type of machine learning framework employed for producing images, altering pictures, and crafting deepfakes, and Diederik Kingma and Max Welling introduced variational autoencoders (VAEs) for generating images, videos, and text.', 'Also, Facebook engineered the DeepFace deep learning facial recognition system, capable of identifying human faces in digital images with accuracy nearly comparable to human capabilities.', \"Year 2016: DeepMind's AlphaGo secured victory over the esteemed Go player Lee Sedol in Seoul, South Korea, prompting reminiscence of the Kasparov chess match against Deep Blue nearly two decades earlier.Whereas Uber initiated a pilot program for self-driving cars in Pittsburgh, catering to a limited group of users.\", \"DeepMind's AlphaGo secured victory over the esteemed Go player Lee Sedol in Seoul, South Korea, prompting reminiscence of the Kasparov chess match against Deep Blue nearly two decades earlier.Whereas Uber initiated a pilot program for self-driving cars in Pittsburgh, catering to a limited group of users.\", 'Year 2018: The \"Project Debater\" from IBM debated on complex topics with two master debaters and also performed extremely well.', 'The \"Project Debater\" from IBM debated on complex topics with two master debaters and also performed extremely well.', 'Google has demonstrated an AI program, \"Duplex,\" which was a virtual assistant that had taken hairdresser appointments on call, and the lady on the other side didn\\'t notice that she was talking with the machine.', 'Year 2021: OpenAI unveiled the Dall-E multimodal AI system, capable of producing images based on textual prompts.', 'OpenAI unveiled the Dall-E multimodal AI system, capable of producing images based on textual prompts.', 'Year 2022: In November, OpenAI launched ChatGPT, offering a chat-oriented interface to its GPT-3.5 LLM.', 'Now AI has developed to a remarkable level.', 'The concept of Deep learning, big data, and data science are now trending like a boom.', 'Nowadays companies like Google, Facebook, IBM, and Amazon are working with AI and creating amazing devices.', 'The future of Artificial Intelligence is inspiring and will come with high intelligence.', 'Next Topic Types of AI\\n\\n\\n\\n← prev next →']\n"
          ]
        }
      ],
      "source": [
        "print(sentence_list)"
      ]
    },
    {
      "cell_type": "code",
      "execution_count": null,
      "metadata": {
        "id": "KQo9g37Xr4QF"
      },
      "outputs": [],
      "source": [
        "def greeting_response(text):\n",
        "  text.lower()\n",
        "\n",
        "  bot_greetings=['hi','hello','hey','halo']\n",
        "  user_greetings=['hi','hello','greetings','whatsapp']\n",
        "\n",
        "  for word in text.split():\n",
        "    if word in user_greetings:\n",
        "      return random.choice(bot_greetings)"
      ]
    },
    {
      "cell_type": "code",
      "execution_count": null,
      "metadata": {
        "id": "G6VmFeqUvjSH"
      },
      "outputs": [],
      "source": [
        "def index_sort(list_var):\n",
        "  lenght=len(list_var)\n",
        "  list_index=list(range(0,lenght))\n",
        "\n",
        "  x=list_var\n",
        "  for i in range(lenght):\n",
        "    for j in range(lenght):\n",
        "      if x[list_index[i]]>x[list_index[j]]:\n",
        "        temp=list_index[i]\n",
        "        list_index[i]=list_index[j]\n",
        "        list_index[j]=temp\n",
        "  return list_index\n"
      ]
    },
    {
      "cell_type": "code",
      "execution_count": null,
      "metadata": {
        "id": "HMpijcVDuPmK"
      },
      "outputs": [],
      "source": [
        "def bot_response(user_input):\n",
        "  user_input=user_input.lower()\n",
        "  sentence_list.append(user_input)\n",
        "  bot_response=''\n",
        "  cm=CountVectorizer().fit_transform(sentence_list)\n",
        "  similarity_scores=cosine_similarity(cm[-1],cm)\n",
        "  similarity_scores_list=similarity_scores.flatten()\n",
        "  index=index_sort(similarity_scores_list)\n",
        "  index=index[1:]\n",
        "  response_flag=0\n",
        "\n",
        "  j=0\n",
        "  for i in range(len(index)):\n",
        "    if similarity_scores_list[index[i]]>0.0:\n",
        "      bot_response=bot_response+' '+sentence_list[index[i]]\n",
        "      response_flag=1\n",
        "      j=j+1\n",
        "    if j>2:\n",
        "      break\n",
        "  if response_flag==0:\n",
        "    bot_response=bot_response+' '+\"I apologise,I don't understand.\"\n",
        "  sentence_list.remove(user_input)\n",
        "  return bot_response"
      ]
    },
    {
      "cell_type": "code",
      "execution_count": null,
      "metadata": {
        "colab": {
          "background_save": true,
          "base_uri": "https://localhost:8080/"
        },
        "id": "ciVYi8hIy6i0",
        "outputId": "5f37255f-259a-4000-fe32-d37369f185c0"
      },
      "outputs": [
        {
          "name": "stdout",
          "output_type": "stream",
          "text": [
            "visab bot:this a assistance to gid you\n",
            "visab bot:halo\n",
            "visab bot: His rule is now called Hebbian learning. His rule is now called Hebbian learning. This technology is much older than you would imagine.\n"
          ]
        }
      ],
      "source": [
        "print(\"visab bot:this a assistance to gid you\")\n",
        "\n",
        "exit_list=['exit','bye','quit','break']\n",
        "while(True):\n",
        "  user_input=input()\n",
        "  if user_input.lower() in exit_list:\n",
        "    print('visab bot:chat with you later,bye!')\n",
        "    break\n",
        "  else:\n",
        "    if greeting_response(user_input)!=None:\n",
        "      print('visab bot:'+greeting_response(user_input))\n",
        "    else:\n",
        "      print('visab bot:'+bot_response(user_input))"
      ]
    }
  ],
  "metadata": {
    "colab": {
      "provenance": []
    },
    "kernelspec": {
      "display_name": "Python 3",
      "name": "python3"
    },
    "language_info": {
      "name": "python"
    }
  },
  "nbformat": 4,
  "nbformat_minor": 0
}